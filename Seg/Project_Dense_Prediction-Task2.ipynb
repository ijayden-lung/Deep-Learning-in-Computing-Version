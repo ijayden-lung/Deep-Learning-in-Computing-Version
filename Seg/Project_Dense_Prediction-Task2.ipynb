{
 "cells": [
  {
   "cell_type": "code",
   "execution_count": 4,
   "metadata": {},
   "outputs": [],
   "source": [
    "import os\n",
    "import gc\n",
    "import time\n",
    "import datetime\n",
    "import torch\n",
    "import torch.nn as nn\n",
    "import torch.nn.functional as F\n",
    "\n",
    "#os.environ[\"CUDA_VISIBLE_DEVICES\"] = \"0\"\n",
    "\n",
    "epochs = 10\n",
    "batch_size = 4\n",
    "learning_rate = 0.01\n",
    "workers = 4 # The number of parallel processes used to read data\n",
    "gpu_id = [0,1,2,3] # only modify if you machine has more than one GPU card"
   ]
  },
  {
   "cell_type": "code",
   "execution_count": 2,
   "metadata": {},
   "outputs": [
    {
     "data": {
      "text/plain": [
       "4"
      ]
     },
     "execution_count": 2,
     "metadata": {},
     "output_type": "execute_result"
    }
   ],
   "source": [
    "torch.cuda.device_count()"
   ]
  },
  {
   "cell_type": "code",
   "execution_count": 3,
   "metadata": {},
   "outputs": [],
   "source": [
    "class Depth_Model(nn.Module):\n",
    "    def __init__(self):\n",
    "        super(Depth_Model, self).__init__()\n",
    "        self.down1 = Down(3,64,pooling=False)\n",
    "        self.down2 = Down(64,128,pooling=True)\n",
    "        self.down3 = Down2(128,256,pooling=True)\n",
    "        self.down4 = Down2(256,512,pooling=True)\n",
    "        self.down5 = Down2(512,1024,pooling=True)\n",
    "\n",
    "        self.up1 = Up(1024,512,down=2)\n",
    "        self.up2 = Up(512, 256,down=2)\n",
    "        self.up3 = Up(256, 128,down=2)\n",
    "        self.up4 = Up(128, 64,down=1)\n",
    "        self.maxpool = nn.MaxPool2d(2)\n",
    "        self.conv = nn.Conv2d(64, 1, kernel_size=1)\n",
    "\n",
    "\n",
    "    def forward(self, x):\n",
    "\n",
    "        x1 = self.down1(x)\n",
    "        x2 = self.down2(x1)\n",
    "        x3 = self.down3(x2)\n",
    "        x4 = self.down4(x3)\n",
    "        x5 = self.down5(x4)\n",
    "        x = self.up1(x5,x4)\n",
    "        x = self.up2(x, x3)\n",
    "        x = self.up3(x, x2)\n",
    "        x = self.up4(x, x1)\n",
    "        x = self.maxpool(x)\n",
    "        x = self.conv(x)\n",
    "        return x"
   ]
  },
  {
   "cell_type": "markdown",
   "metadata": {
    "pycharm": {
     "name": "#%% md\n"
    }
   },
   "source": [
    "# Part 2\n",
    "\n",
    "## Semantic Segmentation\n",
    "\n",
    "In this part of the project, you will reuse the model you created in the previous part to perform Semantic Segmentation - instead of assigning a real number to each\n",
    "pixel , you will assign it a class.\n",
    "\n",
    "The tasks are as following:\n",
    "- Write a Dataset class that processes the segmentation data. **[10 points]**\n",
    "    - Modify the UNet model that takes an RGB image and now outputs a single channel _label map_\n",
    "    - Define an approprate loss function. **[5 points]**\n",
    "- Tune the model to achieve an mIOU of **0.45** or higher on the given validation set. **[20 points]**"
   ]
  },
  {
   "cell_type": "markdown",
   "metadata": {
    "pycharm": {
     "name": "#%% md\n"
    }
   },
   "source": [
    "### Dataset [10 points]\n",
    "We are going to use the [PASCAL VOC dataset](https://drive.google.com/drive/folders/1G54WDNnOQecr5T0sEvZcuyme0WT5Qje3?usp=sharing), which is a commonly used benchmark. In order to reduce the\n",
    "computational requirements, you should downsample the dataset to 256x256, similar to the previous project."
   ]
  },
  {
   "cell_type": "markdown",
   "metadata": {
    "pycharm": {
     "name": "#%% md\n"
    }
   },
   "source": [
    "Now you have to implement the Dataset. Look at the file `loaders.py`.\n",
    "\n",
    "The class you will need to emulate is `class ImageDepthDataset(Dataset)`. The class is called `VOCSeg`, and it must _inherit_ from the `Dataset` class,\n",
    "just like the `ImageDepthDataset`.\n",
    "You need to fill in the `__len__` and the `__getitem__` methods.\n",
    "The `__getitem__` method should yield a dict of the RGB image and the labeled segmentation map.\n",
    "\n",
    "Make sure you downsample the image and the labels to 256x256, otherwise the training will take too much time.\n",
    "\n",
    "Make sure that the labels are in the range `0..N-1`, where\n",
    "N is the number of classes - 21 in our case. You can have one special label for unknown regions.\n",
    "\n",
    "We provide the map of RGB to label for convenience in `get_pascal_labels()`. The map should be read as this - if a pixel has color `[0, 0, 0]`, it has label 0. If the color is\n",
    "`[128, 0, 0]`, the label is 1\n",
    "\n",
    "It is also very common to change the RGB range from 0-255 to 0-1 or -1 to 1. Take a look at [torchvision.transforms.ToTensor](https://pytorch.org/docs/stable/torchvision/transforms.html#torchvision.transforms.ToTensor)\n",
    "and [torchvision.transforms.Normalize](https://pytorch.org/docs/stable/torchvision/transforms.html#torchvision.transforms.Normalize)"
   ]
  },
  {
   "cell_type": "markdown",
   "metadata": {
    "pycharm": {
     "name": "#%% md\n"
    }
   },
   "source": [
    "The PASCAL VOC dataset has predefined train/val sets. Make sure your class implementation can take this _split_ as an argument. Now create train/val loaders using the `get_seg_loaders` function (look at `prep_loaders`), and we should be good to go."
   ]
  },
  {
   "cell_type": "raw",
   "metadata": {},
   "source": [
    "I transfer the loader to here"
   ]
  },
  {
   "cell_type": "code",
   "execution_count": 7,
   "metadata": {},
   "outputs": [
    {
     "name": "stdout",
     "output_type": "stream",
     "text": [
      "Populating the interactive namespace from numpy and matplotlib\n"
     ]
    },
    {
     "name": "stderr",
     "output_type": "stream",
     "text": [
      "/home/longy/anaconda3/envs/ML/lib/python3.7/site-packages/IPython/core/magics/pylab.py:160: UserWarning: pylab import has clobbered these variables: ['sample']\n",
      "`%matplotlib` prevents importing * from pylab and numpy\n",
      "  \"\\n`%matplotlib` prevents importing * from pylab and numpy\"\n"
     ]
    }
   ],
   "source": [
    "%pylab inline\n",
    "import torchvision\n",
    "import torch"
   ]
  },
  {
   "cell_type": "code",
   "execution_count": 2,
   "metadata": {},
   "outputs": [],
   "source": [
    "import os\n",
    "import glob\n",
    "import torch\n",
    "import numpy as np\n",
    "from skimage import io, transform,util\n",
    "\n",
    "from torchvision import transforms\n",
    "from torchvision.utils import make_grid\n",
    "from torch.utils.data import Dataset, DataLoader, random_split\n",
    "import PIL\n",
    "from PIL import Image\n",
    "\n",
    "np.random.seed(0) \n",
    "torch.manual_seed(0)\n",
    "VALIDATION_SPLIT = 0.02\n",
    "\n",
    "class DepthHalfSize(object):\n",
    "    def __call__(self, sample):\n",
    "        x = sample['depth']\n",
    "        sample['depth'] = transform.resize(x, (x.shape[0]//2, x.shape[1]//2))\n",
    "        return sample\n",
    "\n",
    "class ToTensor(object):\n",
    "    def __call__(self, sample):\n",
    "        image, depth = sample['image'], sample['depth']\n",
    "        # swap channel axis\n",
    "        image = image.transpose((2, 0, 1))\n",
    "        depth = depth.transpose((2, 0, 1))\n",
    "        return {'image': torch.from_numpy(image), 'depth': torch.from_numpy(depth)}\n",
    "    \n",
    "class DepthToNormal(object):\n",
    "    def __call__(self, sample):\n",
    "        dx, dy = np.gradient(sample['depth'].squeeze())\n",
    "        dx, dy, dz = dx * 2500, dy * 2500, np.ones_like(dy)\n",
    "        n = np.linalg.norm(np.stack((dy, dx, dz), axis=-1), axis=-1)\n",
    "        d = np.stack((dy/n, dx/n, dz/n), axis=-1)\n",
    "        return {'image': sample['image'], 'depth': (d + 1) * 0.5} \n",
    "        \n",
    "class ImageDepthDataset(Dataset):\n",
    "    def __init__(self, root_dir, transform=None):\n",
    "        self.transform = transform \n",
    "        self.image_files = glob.glob(root_dir + '/*.jpg')\n",
    "        \n",
    "    def __len__(self):\n",
    "        return len(self.image_files)\n",
    "\n",
    "    def __getitem__(self, idx):\n",
    "        image = io.imread(self.image_files[idx]) / 255.0\n",
    "        depth = io.imread(self.image_files[idx].replace('.jpg', '.png'))[:,:,:1] / 255.0        \n",
    "        sample = {'image': image, 'depth': depth}        \n",
    "        return self.transform(sample) if self.transform else sample\n",
    "    \n",
    "def prep_loaders(root_dir=None, batch_size=1, workers=1):\n",
    "    # Load dataset\n",
    "    image_depth_dataset = ImageDepthDataset(root_dir=root_dir, transform=transforms.Compose([DepthHalfSize(), ToTensor()]))\n",
    "\n",
    "    # Split into training and validation sets\n",
    "    train_size = int((1-VALIDATION_SPLIT) * len(image_depth_dataset))\n",
    "    test_size = len(image_depth_dataset) - train_size\n",
    "    train_dataset, test_dataset = torch.utils.data.random_split(image_depth_dataset, [train_size, test_size])\n",
    "\n",
    "    # Prepare data loaders\n",
    "    train_loader = DataLoader(train_dataset, batch_size=batch_size, shuffle=True, num_workers=workers)\n",
    "    valid_loader = DataLoader(test_dataset, batch_size=batch_size, shuffle=False, num_workers=workers)\n",
    "    print('Dataset size (num. batches)', len(train_loader), len(valid_loader))\n",
    "    \n",
    "    return train_loader, valid_loader\n",
    "\n",
    "##############################################################\n",
    "################# Segmentation Section #######################\n",
    "##############################################################\n",
    "\n",
    "class SegIdentityTransform(object):\n",
    "    # Hint: Note that our transforms work on dicts. This is an example of a transform that works\n",
    "    # on a dict whose elements can be converted to np.arrays, and are then converted to torch.tensors\n",
    "    # This performs the scaling of the RGB by division by 255, and puts channels first by performing the permute\n",
    "    # for the label, we convert to long, datatype to let torch know that this is a discrete label.\n",
    "    # You might want to change this or write different transforms depending on how you read data.\n",
    "    def __call__(self, sample):\n",
    "        return {'image': torch.tensor(np.array(sample['image']/255.0)).permute(2,0,1),\n",
    "                'label': torch.tensor(np.array(sample['label'])).long()}\n",
    "        \n",
    "        \n",
    "        \n",
    "        \n",
    "        \n",
    "class ResizeTransform(object):\n",
    "    \n",
    "    \n",
    "    \n",
    "    def __call__(self, sample):\n",
    "        x = sample['image']\n",
    "        sample['image'] = transform.resize(x, (256,256),preserve_range=True)\n",
    "        y= sample['label']\n",
    "        sample['label'] = transform.resize(y, (256,256),preserve_range=True)\n",
    "        \n",
    "        x1 = sample['image']\n",
    "        sample['image'] = util.random_noise(x1)\n",
    "        tf = transforms.Compose([\n",
    "            #transforms.ToTensor(),\n",
    "            #transforms.RandomHorizontalFlip(),\n",
    "            #transforms.RandomRotation(20),\n",
    "            transforms.ToTensor(),    \n",
    "        ])\n",
    "        \n",
    "        \n",
    "        #sample['image'] = sample['image']/255.0\n",
    "        #sample['image'] = tf(sample['image'])\n",
    "        #sample['label'] = tf(sample['label'])\n",
    "        return sample\n",
    "\n",
    "def get_pascal_labels():\n",
    "    \"\"\"Load the mapping that associates pascal classes with label colors\n",
    "    Returns:\n",
    "        np.ndarray with dimensions (21, 3)\n",
    "    \"\"\"\n",
    "    return np.asarray([[0, 0, 0],\n",
    "                       [128, 0, 0],\n",
    "                       [0, 128, 0],\n",
    "                       [128, 128, 0],\n",
    "                       [0, 0, 128],\n",
    "                       [128, 0, 128],\n",
    "                       [0, 128, 128],\n",
    "                       [128, 128, 128],\n",
    "                       [64, 0, 0],\n",
    "                       [192, 0, 0],\n",
    "                       [64, 128, 0],\n",
    "                       [192, 128, 0],\n",
    "                       [64, 0, 128],\n",
    "                       [192, 0, 128],\n",
    "                       [64, 128, 128],\n",
    "                       [192, 128, 128],\n",
    "                       [0, 64, 0],\n",
    "                       [128, 64, 0],\n",
    "                       [0, 192, 0],\n",
    "                       [128, 192, 0],\n",
    "                       [0, 64, 128]])\n",
    "\n",
    "\n",
    "\n",
    "\n",
    "def encode_segmap(mask):\n",
    "    \"\"\"Encode segmentation label images as pascal classes\n",
    "    Args:\n",
    "        mask (np.ndarray): raw segmentation label image of dimension\n",
    "          (M, N, 3), in which the Pascal classes are encoded as colours.\n",
    "    Returns:\n",
    "        (np.ndarray): class map with dimensions (M,N), where the value at\n",
    "        a given location is the integer denoting the class index.\n",
    "    \"\"\"\n",
    "\n",
    "    # TODO (hint: You might not need a lot of work here with some libraries, which already read in the image as a single channel label)\n",
    "    # (hint: the said library does not return a np.ndarray object)\n",
    "    label_mask = np.zeros((mask.shape[0], mask.shape[1]), dtype=np.int16)\n",
    "    if isinstance(mask, np.ndarray):\n",
    "        # TODO\n",
    "        mask = mask.astype(int)\n",
    "        for i, label in enumerate(get_pascal_labels()):\n",
    "            #print(mask.shape)\n",
    "            #print(i)\n",
    "            #print(np.where(np.all(mask == label, axis=-1)))\n",
    "            label_mask[np.where(np.all(mask == label, axis=-1))[:2]] = i\n",
    "        label_mask = label_mask.astype(int)\n",
    "    else:\n",
    "        # TODO if the image is just single channel\n",
    "        #  you might want to convert the single channel label to a np.ndarray\n",
    "        pass\n",
    "    return label_mask\n",
    "\n",
    "def decode_segmap(label_mask, unk_label=255):\n",
    "    \"\"\"Decode segmentation label prediction as RGB images\n",
    "    Args:\n",
    "        mask (torch.tensor): class map with dimensions (B, M,N), where the value at\n",
    "        a given location is the integer denoting the class index.\n",
    "    Returns:\n",
    "        (np.ndarray): colored image of shape (BM, BN, 3)\n",
    "    \"\"\"\n",
    "    #mask[mask == unk_label] == 0\n",
    "    #mask = mask.numpy()\n",
    "    #cmap = get_pascal_labels()\n",
    "    #cmap_exp = cmap[..., None]\n",
    "    #colored = cmap[mask].squeeze()\n",
    "    #grid = make_grid(torch.tensor(colored).permute(0, 3, 1, 2))\n",
    "    #return np.permute(grid, (1, 2, 0))\n",
    "\n",
    "    label_colours = get_pascal_labels()\n",
    "    r = label_mask.copy()\n",
    "    g = label_mask.copy()\n",
    "    b = label_mask.copy()\n",
    "    for ll in range(0, 21):\n",
    "        r[label_mask == ll] = label_colours[ll, 0]\n",
    "        g[label_mask == ll] = label_colours[ll, 1]\n",
    "        b[label_mask == ll] = label_colours[ll, 2]\n",
    "    rgb = np.zeros((label_mask.shape[0], label_mask.shape[1], 3))\n",
    "    print(rgb.shape)\n",
    "    print(r.shape)\n",
    "    rgb[:, :, 0] = r / 255.0\n",
    "    rgb[:, :, 1] = g / 255.0\n",
    "    rgb[:, :, 2] = b / 255.0\n",
    "    plt.imshow(rgb)\n",
    "    plt.show()\n",
    "\n",
    "\n",
    "\n",
    "class VOCSeg(Dataset):\n",
    "    def __init__(self, root_dir, split=None, transform=None):\n",
    "        # Known information\n",
    "        self.num_classes = 21\n",
    "        self.class_names = ['Background',\n",
    "                            'Aeroplane',\n",
    "                            'Bicycle',\n",
    "                            'Bird',\n",
    "                            'Boat',\n",
    "                            'Bottle',\n",
    "                            'Bus',\n",
    "                            'Car',\n",
    "                            'Cat',\n",
    "                            'Chair',\n",
    "                            'Cow',\n",
    "                            'Diningtable',\n",
    "                            'Dog',\n",
    "                            'Horse',\n",
    "                            'Motorbike',\n",
    "                            'Person',\n",
    "                            'Pottedplant',\n",
    "                            'Sheep',\n",
    "                            'Sofa',\n",
    "                            'Train',\n",
    "                            'Tvmonitor']\n",
    "\n",
    "        # Set up proper paths\n",
    "        self.root_dir = root_dir\n",
    "        self.image_dir = os.path.join(self.root_dir, 'JPEGImages')\n",
    "        self.label_dir = os.path.join(self.root_dir, 'SegmentationClass')\n",
    "        \n",
    "        self.transform = transform \n",
    "\n",
    "        #TODO Read the appropriate split file and save the file names\n",
    "        self.split = split\n",
    "        self.split_file_dir = os.path.join(self.root_dir, 'ImageSets', 'Segmentation')\n",
    "\n",
    "        # TODO read in ONLY files from self.split_file\n",
    "        #self.image_files = None\n",
    "        #self.label_files = None\n",
    "        with open(os.path.join(os.path.join(self.split_file_dir, self.split + '.txt')), \"r\") as f:\n",
    "            lines = f.read().splitlines()\n",
    "            self.image_files = [os.path.join(self.root_dir, \"JPEGImages\", name + \".jpg\") for name in lines]\n",
    "            self.label_files = [os.path.join(self.root_dir, \"SegmentationClass\", name + \".png\") for name in lines]\n",
    "            print(len(self.image_files))\n",
    "            \n",
    "        \n",
    "\n",
    "\n",
    "    def __len__(self):\n",
    "        return len(self.image_files)\n",
    "\n",
    "    def __getitem__(self, idx):\n",
    "\n",
    "        # TODO Retrieve the saved file names and perform the proper processing\n",
    "        # The images go from 0-255 to 0-1. You can also use the range -1 to 1\n",
    "        # The labels go from a 3 channel RGB to a single channel with elements in the range 0..N-1\n",
    "        #image = None\n",
    "        image = io.imread(self.image_files[idx])\n",
    "        #image = Image.open(self.image_files[idx])\n",
    "        #label_rgb = None\n",
    "        label_rgb = io.imread(self.label_files[idx])\n",
    "        #label_rgb = Image.open(self.label_files[idx])\n",
    "        label = label_rgb[:,:,:3].copy()\n",
    "        #label = label_rgb\n",
    "        label = encode_segmap(label) # write the encode_segmap function\n",
    "        sample = {'image': image, 'label': label}\n",
    "        \n",
    "        return self.transform(sample)\n",
    "\n",
    "\n",
    "def get_seg_loaders(root_dir=None, batch_size=1, workers=1):\n",
    "\n",
    "    #TODO optionally add more augmentation\n",
    "    ####Please see function SegIdentityTransform \n",
    "    \n",
    "    tfms = transforms.Compose([\n",
    "        #transforms.Resize(256),\n",
    "        #transforms.Normalize(mean = [0.485, 0.456, 0.406],std = [0.229, 0.224, 0.225]),\n",
    "        ResizeTransform(),\n",
    "        SegIdentityTransform()\n",
    "    ])\n",
    "\n",
    "    train_set = VOCSeg(root_dir=root_dir, split='train', transform=tfms)\n",
    "    val_set = VOCSeg(root_dir=root_dir, split='val', transform=tfms) # No transforms on the validation set\n",
    "\n",
    "    # Prepare data_loaders)\n",
    "    train_loader = DataLoader(train_set, batch_size=batch_size, shuffle=True, num_workers=workers)\n",
    "    valid_loader = DataLoader(val_set, batch_size=batch_size, shuffle=False, num_workers=workers)\n",
    "\n",
    "    return train_loader, valid_loader\n",
    "\n",
    "if __name__ == '__main__':\n",
    "    pass"
   ]
  },
  {
   "cell_type": "code",
   "execution_count": 5,
   "metadata": {
    "jupyter": {
     "outputs_hidden": false
    },
    "pycharm": {
     "name": "#%%\n"
    }
   },
   "outputs": [
    {
     "name": "stdout",
     "output_type": "stream",
     "text": [
      "1464\n",
      "1449\n"
     ]
    }
   ],
   "source": [
    "# Sanity check\n",
    "\n",
    "if __name__ == '__main__':\n",
    "    #from loaders import get_seg_loaders\n",
    "    train_loader, valid_loader = get_seg_loaders(root_dir='./VOC2012',batch_size=batch_size,workers=workers)\n",
    "\n",
    "    # we have read all files\n",
    "    assert len(train_loader.dataset) == 1464\n",
    "    assert len(valid_loader.dataset) == 1449\n",
    "    "
   ]
  },
  {
   "cell_type": "code",
   "execution_count": 8,
   "metadata": {},
   "outputs": [
    {
     "name": "stdout",
     "output_type": "stream",
     "text": [
      "tensor(20)\n",
      "tensor(0.0039, dtype=torch.float64)\n",
      "tensor(0., dtype=torch.float64)\n",
      "torch.Size([4, 256, 256])\n",
      "torch.Size([4, 3, 256, 256])\n"
     ]
    },
    {
     "data": {
      "image/png": "[encoded data removed]",
      "text/plain": [
       "<Figure size 648x648 with 1 Axes>"
      ]
     },
     "metadata": {
      "needs_background": "light"
     },
     "output_type": "display_data"
    }
   ],
   "source": [
    "sample = iter(train_loader).next()\n",
    "figure(figsize=(9,9)); imshow(torchvision.utils.make_grid(sample['image'], padding=0).permute((1, 2, 0)))\n",
    "#figure(figsize=(9,9)); imshow(torchvision.utils.make_grid(sample['label'], padding=0).permute((1, 2, 0)))\n",
    "label = sample['label']\n",
    "image = sample['image']\n",
    "print(label.max())\n",
    "print(image.max())\n",
    "print(image.min())\n",
    "print(label.shape)\n",
    "print(image.shape)\n",
    "    \n",
    "    #print(image)"
   ]
  },
  {
   "cell_type": "code",
   "execution_count": null,
   "metadata": {},
   "outputs": [],
   "source": [
    "y = sample['label'].numpy()\n",
    "decode_segmap(y[0])"
   ]
  },
  {
   "cell_type": "code",
   "execution_count": null,
   "metadata": {},
   "outputs": [],
   "source": [
    "valid= iter(valid_loader).next()"
   ]
  },
  {
   "cell_type": "code",
   "execution_count": null,
   "metadata": {},
   "outputs": [],
   "source": [
    "label_rgb = io.imread('./VOC2012/SegmentationClass/2007_000032.png')\n",
    "print(label_rgb.shape)\n",
    "np.argmax(label_rgb,axis=1)\n"
   ]
  },
  {
   "cell_type": "markdown",
   "metadata": {
    "pycharm": {
     "name": "#%% md\n"
    }
   },
   "source": [
    "You should implement a few more sanity checks - the range of data in the RGB part, the range of data in the label part, whether the dataset returns tensors,\n",
    "whether the labels have the datatype `torch.long` etc."
   ]
  },
  {
   "cell_type": "markdown",
   "metadata": {
    "pycharm": {
     "name": "#%% md\n"
    }
   },
   "source": [
    "## Modifying the Loss and Architecture [5 points]\n",
    "You will have to some form of surgery on the network you constructed in Part 1.\n",
    "\n",
    "1. The number of channels the last layer predicts must change to the number of classes in the dataset.\n",
    "2. The loss function must change to reflect the fact that we are now performing per-pixel classification. (What loss did you use for classification in Project 1?)\n",
    "3. You might get a CUDA assert error. This means that you have a label higher than the number of channels in the _logits_. This is very common with semantic segmentation, where you might want to label some region unkown as it's label might be under doubt - for example near the edges of objects. Look up how to ignore a certain label with a classification loss.\n",
    "4. Take care of input label and logit sizes. We want predictions to be 256x256 as well."
   ]
  },
  {
   "cell_type": "code",
   "execution_count": null,
   "metadata": {},
   "outputs": [],
   "source": [
    "import torch\n",
    "from math import exp\n",
    "import torch.nn.functional as F\n",
    "from torch.autograd import Variable\n",
    "####Dice Loss\n",
    "\n",
    "\n",
    "def loss_fn(y_pred, y):\n",
    "    \n",
    "    #y_pred = Variable(y_pred, requires_grad=True)\n",
    "    #y_pred.requires_grad = True\n",
    "    #print(y_pred.shape)\n",
    "    y_pred = torch.sigmoid(y_pred)\n",
    "    y_pred = torch.argmax(y_pred, dim=1)\n",
    "    #y_pred = y_pred.argmax(1)\n",
    "    #print(y_pred.shape)\n",
    "    #bce = F.binary_cross_entropy_with_logits(y_pred, y)\n",
    "    \n",
    "    #pred = y_pred.view(-1)\n",
    "    #y = y.view(-1)\n",
    "    #y = torch.as_tensor(y)\n",
    "    #y_pred = torch.as_tensor(y_pred)\n",
    "    y = F.one_hot(y.long(), num_classes = 21).contiguous().float()\n",
    "    y_pred   = F.one_hot(y_pred, num_classes = 21).contiguous().float()\n",
    "    \n",
    "    #y = Variable(y.float(), requires_grad=True)\n",
    "    #pred = Variable(pred.float(), requires_grad=True)\n",
    "    #y.requires_grad = True\n",
    "    y_pred.requires_grad = True\n",
    "    \n",
    "    y_pred = y_pred.view(-1)\n",
    "    y = y.view(-1)\n",
    "    #y_pred = y_pred.squeeze(1)\n",
    "    #y = y.squeeze(1)\n",
    "    \n",
    "    \n",
    "    smooth = 1.\n",
    "    intersection = (y_pred * y).sum()\n",
    "    loss =  1 - ((2. * intersection + smooth)/(y_pred.sum() + y.sum() + smooth))\n",
    "    return loss\n",
    "\n",
    "\n",
    "\n",
    "\n",
    "### Cross Entropy\n",
    "def loss_fn(y_pred, y):\n",
    "    #y_pred.requires_grad = True\n",
    "    y_pred = torch.sigmoid(y_pred)\n",
    "    loss = nn.CrossEntropyLoss()(y_pred, y.long())\n",
    "    return loss\n",
    "\n",
    "#"
   ]
  },
  {
   "cell_type": "code",
   "execution_count": null,
   "metadata": {},
   "outputs": [],
   "source": [
    "class Up(nn.Module):\n",
    "\n",
    "    def __init__(self, in_channels, out_channels, down):\n",
    "        super().__init__()\n",
    "\n",
    "        self.up = nn.ConvTranspose2d(in_channels , in_channels // 2, kernel_size=2, stride=2)\n",
    "        if(down==1):\n",
    "            self.conv = Down(in_channels, out_channels,pooling=False)\n",
    "        else:\n",
    "            self.conv = Down2(in_channels, out_channels,pooling=False)\n",
    "\n",
    "    def forward(self, x1, x2):\n",
    "        x1 = self.up(x1)\n",
    "        diffY = x2.shape[2] - x1.shape[2]\n",
    "        diffX = x2.shape[3] - x1.shape[3]\n",
    "\n",
    "        x1 = F.pad(x1, [diffX // 2, diffX - diffX // 2,\n",
    "                        diffY // 2, diffY - diffY // 2]) \n",
    "\n",
    "        x = torch.cat([x2, x1], dim=1)\n",
    "        return self.conv(x)"
   ]
  },
  {
   "cell_type": "code",
   "execution_count": null,
   "metadata": {},
   "outputs": [],
   "source": [
    "class Down(nn.Module):\n",
    "    def __init__(self, in_channels, out_channels,pooling=True):\n",
    "        super().__init__()\n",
    "        self.pooling = pooling\n",
    "        self.maxpool = nn.MaxPool2d(2)\n",
    "        self.double_conv = nn.Sequential(\n",
    "            nn.Conv2d(in_channels, out_channels,kernel_size=3, padding=1),\n",
    "            nn.BatchNorm2d(out_channels),\n",
    "            nn.ReLU(inplace=True),\n",
    "            nn.Conv2d(out_channels, out_channels,kernel_size=3, padding=1),\n",
    "            nn.BatchNorm2d(out_channels),\n",
    "            nn.ReLU(inplace=True)\n",
    "        )\n",
    "\n",
    "    def forward(self, x):\n",
    "        if(self.pooling):\n",
    "            return self.maxpool(self.double_conv(x))\n",
    "        else:\n",
    "            return self.double_conv(x)\n"
   ]
  },
  {
   "cell_type": "code",
   "execution_count": null,
   "metadata": {},
   "outputs": [],
   "source": [
    "class Down2(nn.Module):\n",
    "    def __init__(self, in_channels, out_channels,pooling=True):\n",
    "        super().__init__()\n",
    "        self.pooling = pooling\n",
    "        self.maxpool = nn.MaxPool2d(2)\n",
    "        self.double_conv = nn.Sequential(\n",
    "            nn.Conv2d(in_channels, out_channels,kernel_size=3, padding=1),\n",
    "            nn.BatchNorm2d(out_channels),\n",
    "            nn.ReLU(inplace=True),\n",
    "            nn.Conv2d(out_channels, out_channels,kernel_size=3, padding=1),\n",
    "            nn.BatchNorm2d(out_channels),\n",
    "            nn.ReLU(inplace=True),\n",
    "            nn.Conv2d(out_channels, out_channels,kernel_size=3, padding=1),\n",
    "            nn.BatchNorm2d(out_channels),\n",
    "            nn.ReLU(inplace=True)\n",
    "        )\n",
    "\n",
    "    def forward(self, x):\n",
    "        if(self.pooling):\n",
    "            return self.maxpool(self.double_conv(x))\n",
    "        else:\n",
    "            return self.double_conv(x)"
   ]
  },
  {
   "cell_type": "code",
   "execution_count": null,
   "metadata": {},
   "outputs": [],
   "source": [
    "class Model(nn.Module):\n",
    "    def __init__(self):\n",
    "        super(Model, self).__init__()\n",
    "        self.down1 = Down(3,64,pooling=False)\n",
    "        self.down2 = Down(64,128,pooling=True)\n",
    "        self.down3 = Down2(128,256,pooling=True)\n",
    "        self.down4 = Down2(256,512,pooling=True)\n",
    "        self.down5 = Down2(512,1024,pooling=True)\n",
    "\n",
    "        self.up1 = Up(1024,512,down=2)\n",
    "        self.up2 = Up(512, 256,down=2)\n",
    "        self.up3 = Up(256, 128,down=2)\n",
    "        self.up4 = Up(128, 64,down=1)\n",
    "        #self.maxpool = nn.MaxPool2d(2)\n",
    "        self.conv = nn.Conv2d(64, 21, kernel_size=1)\n",
    "\n",
    "\n",
    "    def forward(self, x):\n",
    "\n",
    "        x1 = self.down1(x)\n",
    "        x2 = self.down2(x1)\n",
    "        x3 = self.down3(x2)\n",
    "        x4 = self.down4(x3)\n",
    "        x5 = self.down5(x4)\n",
    "        x = self.up1(x5,x4)\n",
    "        x = self.up2(x, x3)\n",
    "        x = self.up3(x, x2)\n",
    "        x = self.up4(x, x1)\n",
    "        #x = self.maxpool(x)\n",
    "        x = self.conv(x)\n",
    "        return x"
   ]
  },
  {
   "cell_type": "markdown",
   "metadata": {
    "pycharm": {
     "name": "#%% md\n"
    }
   },
   "source": [
    "### !! \n",
    "### <span style=\"color:red\"> At this point, we highly recommend restarting your notebook for part 2 and beginning modifying/training the  model</span>"
   ]
  },
  {
   "cell_type": "code",
   "execution_count": null,
   "metadata": {
    "jupyter": {
     "outputs_hidden": false
    },
    "pycharm": {
     "name": "#%%\n"
    }
   },
   "outputs": [],
   "source": [
    "import os\n",
    "import gc\n",
    "import time\n",
    "import datetime\n",
    "\n",
    "os.environ[\"CUDA_VISIBLE_DEVICES\"] = \"0\"\n",
    "\n",
    "epochs = 30\n",
    "batch_size = 8\n",
    "learning_rate = 0.001\n",
    "workers = 4 # The number of parallel processes used to read data\n",
    "gpu_id = [0,1,2,3] # only modify if you machine has more than one GPU card"
   ]
  },
  {
   "cell_type": "code",
   "execution_count": null,
   "metadata": {
    "jupyter": {
     "outputs_hidden": false
    },
    "pycharm": {
     "name": "#%%\n"
    }
   },
   "outputs": [],
   "source": [
    "if __name__ == '__main__':\n",
    "    #from loaders import get_seg_loaders\n",
    "    train_loader, valid_loader = get_seg_loaders(root_dir='./VOC2012',batch_size=batch_size,workers=workers)"
   ]
  },
  {
   "cell_type": "code",
   "execution_count": null,
   "metadata": {},
   "outputs": [],
   "source": [
    "def create_model_gpu():\n",
    "    model = Model()\n",
    "    model = model.cuda()\n",
    "    model = nn.DataParallel(model, device_ids=[g for g in gpu_id])\n",
    "    return model\n",
    "\n",
    "model = create_model_gpu()\n",
    "model.load_state_dict(torch.load('seg_model_gpu[0, 1, 2, 3]_n200_bs16_lr0.001.pkl'))\n",
    "print('Ready to train.')\n",
    "\n",
    "\n",
    "for param in model.parameters():\n",
    "    print(param)"
   ]
  },
  {
   "cell_type": "code",
   "execution_count": null,
   "metadata": {},
   "outputs": [],
   "source": [
    "depth_model = Depth_Model()\n",
    "depth_model = depth_model.cuda()\n",
    "depth_model = nn.DataParallel(depth_model, device_ids=[g for g in gpu_id])"
   ]
  },
  {
   "cell_type": "code",
   "execution_count": null,
   "metadata": {},
   "outputs": [],
   "source": [
    "state_dict = model.state_dict()\n",
    "#state_dict['classifier.weight'] = torch.randn(10, 10)\n",
    "#model.load_state_dict(state_dict)\n",
    "\n",
    "for name, param in depth_model.named_parameters():\n",
    "    if name != 'module.conv.weight' and name != 'module.conv.bias':\n",
    "        state_dict[name] = param\n",
    "model.load_state_dict(state_dict)"
   ]
  },
  {
   "cell_type": "markdown",
   "metadata": {
    "pycharm": {
     "name": "#%% md\n"
    }
   },
   "source": [
    "## Training and Evaluation [18 points]\n",
    "Tune the hyperparameters to get the maximum possible score on the PASCAL VOC challenge. \n",
    "And answer the following questions:\n",
    "1. What is the relationship between the _size_ of the class and the IOU How would you quantify this relationship?\n",
    "2. What is the relationship between the number of instances and the IOU? how many times a class exists in an image vs the IOU?\n",
    "3. The segmentation dataset is small. Initialize the weights of the segmentation net with the weights of the trained depth network.\n",
    "4. Which weights can you not transfer?\n",
    "5. Fine tune (ie train with a lower learning rate) the model in 3 for the same number of epochs as the model with a random initialization (or ImageNet initialized weights)\n",
    "6. What trend do you observe?\n"
   ]
  },
  {
   "cell_type": "code",
   "execution_count": null,
   "metadata": {
    "jupyter": {
     "outputs_hidden": false
    },
    "pycharm": {
     "name": "#%%\n"
    }
   },
   "outputs": [],
   "source": [
    "from utils import Metrics"
   ]
  },
  {
   "cell_type": "code",
   "execution_count": null,
   "metadata": {
    "jupyter": {
     "outputs_hidden": false
    },
    "pycharm": {
     "name": "#%%\n"
    }
   },
   "outputs": [],
   "source": [
    "run_id = 'seg_model_gpu{}_n{}_bs{}_lr{}'.format(gpu_id, epochs, batch_size, learning_rate); print('\\n\\nTraining', run_id)\n",
    "save_path = run_id + '.pkl'\n",
    "\n",
    "optimizer = torch.optim.Adam(model.parameters(), lr=learning_rate)\n",
    "#optimizer = torch.optim.Adam(filter(lambda p: p.requires_grad, model.parameters()), lr=learning_rate)\n",
    "\n",
    "metrics = Metrics(train_loader.dataset.num_classes, train_loader.dataset.class_names)\n",
    "\n",
    "# Used to keep track of statistics\n",
    "class AverageMeter(object):\n",
    "    def __init__(self):\n",
    "        self.val = 0; self.avg = 0; self.sum = 0; self.count = 0\n",
    "    def update(self, val, n=1):\n",
    "        self.val = val\n",
    "        self.sum += val * n\n",
    "        self.count += n\n",
    "        self.avg = self.sum / self.count\n",
    "\n",
    "REPORTS_PER_EPOCH = 10\n",
    "ITER_PER_EPOCH = len(train_loader)\n",
    "ITER_PER_REPORT = ITER_PER_EPOCH//REPORTS_PER_EPOCH\n",
    "\n",
    "\n",
    "\n",
    "for epoch in range(epochs):\n",
    "    model.train()\n",
    "\n",
    "    # Progress reporting\n",
    "    batch_time = AverageMeter()\n",
    "    losses = AverageMeter()\n",
    "    N = len(train_loader)\n",
    "    end = time.time()\n",
    "\n",
    "    for i, (sample) in enumerate(train_loader):\n",
    "        \n",
    "       \n",
    "        # Load a batch and send it to GPU\n",
    "        x = sample['image'].float().cuda()\n",
    "        y = sample['label'].float().cuda()\n",
    "        #y = sample['label'].cuda()\n",
    "        # Forward pass: compute predicted y by passing x to the model.\n",
    "        \n",
    "        y_pred = model(x)\n",
    "        # Compute and print loss.\n",
    "        \n",
    "        loss = loss_fn(y_pred, y)\n",
    "\n",
    "        # Record loss\n",
    "        losses.update(loss.data.item(), x.size(0))\n",
    "\n",
    "        # Before the backward pass, use the optimizer object to zero all of the\n",
    "        # gradients for the variables it will update (which are the learnable\n",
    "        # weights of the model).\n",
    "        optimizer.zero_grad()\n",
    "        \n",
    "\n",
    "        # Backward pass: compute gradient of the loss with respect to model parameters\n",
    "        loss.backward()\n",
    "\n",
    "        # Calling the step function on an Optimizer makes an update to its parameters\n",
    "        optimizer.step()\n",
    "\n",
    "        # Measure elapsed time\n",
    "        batch_time.update(time.time() - end)\n",
    "        end = time.time()\n",
    "        eta = str(datetime.timedelta(seconds=int(batch_time.val*(N - i))))\n",
    "\n",
    "        # Log training progress\n",
    "        if i % ITER_PER_REPORT == 0:\n",
    "            print('\\nEpoch: [{0}][{1}/{2}]\\t' 'Time {batch_time.val:.3f} ({batch_time.sum:.3f})\\t' 'ETA {eta}\\t'\n",
    "             'Training Loss {loss.val:.4f} ({loss.avg:.4f})'.format(epoch, i, N, batch_time=batch_time, loss=losses, eta=eta))\n",
    "        elif i % (ITER_PER_REPORT) == 0:\n",
    "            print('.', end='')\n",
    "\n",
    "        #break # useful for quick debugging\n",
    "    torch.cuda.empty_cache(); del x, y; gc.collect()\n",
    "\n",
    "    # Validation after each epoch\n",
    "    model.eval()\n",
    "    metrics.reset()\n",
    "    for i, (sample) in enumerate(valid_loader):\n",
    "        x, y = sample['image'].float().cuda(), sample['label'].numpy()\n",
    "        with torch.no_grad():\n",
    "            y_pred = model(x)\n",
    "            y_pred = torch.argmax(y_pred, dim=1) # get the most likely prediction\n",
    "\n",
    "        metrics.add_batch(y, y_pred.detach().cpu().numpy())\n",
    "        print('_', end='')\n",
    "    print('\\nValidation stats ', metrics.get_table())\n",
    "\n",
    "\n",
    "# Save model\n",
    "torch.save(model.state_dict(), save_path)\n",
    "print('\\nTraining done. Model saved ({}).'.format(save_path))"
   ]
  },
  {
   "cell_type": "markdown",
   "metadata": {},
   "source": [
    "### Visualization  [2 points]\n",
    "Use the `decode_segmap` function to visualize images and their segmentation. The images must be from the validation set.\n"
   ]
  },
  {
   "cell_type": "code",
   "execution_count": null,
   "metadata": {},
   "outputs": [],
   "source": [
    "sample = iter(valid_loader).next()"
   ]
  },
  {
   "cell_type": "code",
   "execution_count": null,
   "metadata": {},
   "outputs": [],
   "source": [
    "model = create_model_gpu()\n",
    "model.load_state_dict(torch.load('seg_model_gpu[0, 1, 2, 3]_n100_bs16_lr0.001.pkl'))\n",
    "model.eval() # set to evaluation mode"
   ]
  },
  {
   "cell_type": "code",
   "execution_count": null,
   "metadata": {},
   "outputs": [],
   "source": [
    "x = sample['image'].float().cuda()\n",
    "y_pred, y = model(x), sample['label'].numpy()"
   ]
  },
  {
   "cell_type": "code",
   "execution_count": null,
   "metadata": {},
   "outputs": [],
   "source": [
    "decode_segmap(y[0])"
   ]
  },
  {
   "cell_type": "code",
   "execution_count": null,
   "metadata": {},
   "outputs": [],
   "source": [
    "y_pred = torch.argmax(y_pred, dim=1)\n",
    "y_pred = y_pred.cpu().detach().numpy()\n",
    "decode_segmap(y_pred[0])"
   ]
  },
  {
   "cell_type": "code",
   "execution_count": null,
   "metadata": {},
   "outputs": [],
   "source": []
  },
  {
   "cell_type": "code",
   "execution_count": null,
   "metadata": {},
   "outputs": [],
   "source": []
  }
 ],
 "metadata": {
  "accelerator": "GPU",
  "colab": {
   "collapsed_sections": [],
   "machine_shape": "hm",
   "name": "Project_Depth_Estimate_good.ipynb",
   "provenance": [],
   "version": "0.3.2"
  },
  "kernelspec": {
   "display_name": "Python 3",
   "language": "python",
   "name": "python3"
  },
  "language_info": {
   "codemirror_mode": {
    "name": "ipython",
    "version": 3
   },
   "file_extension": ".py",
   "mimetype": "text/x-python",
   "name": "python",
   "nbconvert_exporter": "python",
   "pygments_lexer": "ipython3",
   "version": "3.7.3"
  }
 },
 "nbformat": 4,
 "nbformat_minor": 4
}
